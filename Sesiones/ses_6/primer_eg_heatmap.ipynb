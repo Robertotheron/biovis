{
 "cells": [
  {
   "cell_type": "code",
   "execution_count": null,
   "metadata": {},
   "outputs": [],
   "source": [
    "import altair as alt"
   ]
  },
  {
   "cell_type": "code",
   "execution_count": null,
   "metadata": {},
   "outputs": [],
   "source": [
    "import pandas as pd"
   ]
  },
  {
   "cell_type": "code",
   "execution_count": null,
   "metadata": {},
   "outputs": [],
   "source": [
    "df = pd.read_csv ('data/GSE68849-expression.csv') #https://jcoliver.github.io/learn-r/009-expression-heatmaps.html"
   ]
  },
  {
   "cell_type": "code",
   "execution_count": null,
   "metadata": {},
   "outputs": [],
   "source": [
    "df"
   ]
  },
  {
   "cell_type": "markdown",
   "metadata": {},
   "source": [
    "A tidy version of this dataset is one in which the income values would not be columns headers but rather values in an income column. In order to tidy this dataset, we need to melt it. The pandas library has a built-in function that allows to do just that. It “unpivots” a DataFrame from a wide format to a long format. We’ll reuse this function a few times through the post."
   ]
  },
  {
   "cell_type": "code",
   "execution_count": null,
   "metadata": {},
   "outputs": [],
   "source": [
    "formatted_df = pd.melt(df,\n",
    "                       [\"subject\", \"treatment\"],\n",
    "                       var_name=\"gene\",\n",
    "                       value_name=\"expression\")\n",
    "formatted_df = formatted_df.sort_values(by=[\"subject\"])\n",
    "formatted_df"
   ]
  },
  {
   "cell_type": "code",
   "execution_count": null,
   "metadata": {},
   "outputs": [],
   "source": [
    "chart = alt.Chart(formatted_df)"
   ]
  },
  {
   "cell_type": "code",
   "execution_count": null,
   "metadata": {},
   "outputs": [],
   "source": [
    "chart.mark_point()"
   ]
  },
  {
   "cell_type": "code",
   "execution_count": null,
   "metadata": {},
   "outputs": [],
   "source": [
    "chart.mark_point().encode(\n",
    "    alt.X('subject:N'),\n",
    "    alt.Y('gene:N')\n",
    ")"
   ]
  },
  {
   "cell_type": "code",
   "execution_count": null,
   "metadata": {},
   "outputs": [],
   "source": [
    "chart.mark_rect().encode(\n",
    "    alt.X('subject:N'),\n",
    "    alt.Y('gene:N')\n",
    ")"
   ]
  },
  {
   "cell_type": "code",
   "execution_count": null,
   "metadata": {},
   "outputs": [],
   "source": [
    "chart.mark_rect().encode(\n",
    "    alt.X('subject:N'),\n",
    "    alt.Y('gene:N'),\n",
    "    alt.Color('expression:Q')\n",
    ")"
   ]
  },
  {
   "cell_type": "code",
   "execution_count": null,
   "metadata": {},
   "outputs": [],
   "source": [
    "chart.mark_rect().encode(\n",
    "    alt.X('subject:N'),\n",
    "    alt.Y('gene:N'),\n",
    "    alt.Color('expression:Q', scale=alt.Scale(type='log'))\n",
    ")"
   ]
  },
  {
   "cell_type": "code",
   "execution_count": null,
   "metadata": {
    "scrolled": true
   },
   "outputs": [],
   "source": [
    "chart.mark_rect().encode(\n",
    "    alt.X('subject:N'),\n",
    "    alt.Y('gene:N'),\n",
    "    alt.Color('expression:Q', scale=alt.Scale(type='log')),\n",
    "    alt.Tooltip(['subject', 'gene', 'expression'])\n",
    ") "
   ]
  },
  {
   "cell_type": "code",
   "execution_count": null,
   "metadata": {},
   "outputs": [],
   "source": [
    "control=chart.mark_rect().encode(\n",
    "    alt.X('subject:N'),\n",
    "    alt.Y('gene:N'),\n",
    "    alt.Color('expression:Q', scale=alt.Scale(type='log')),\n",
    "    alt.Tooltip(['subject', 'gene', 'expression']) \n",
    ").transform_filter('datum.treatment == \"control\"')\n",
    "\n",
    "flu=chart.mark_rect().encode(\n",
    "    alt.X('subject:N'),\n",
    "    alt.Y('gene:N'),\n",
    "    alt.Color('expression:Q', scale=alt.Scale(type='log')),\n",
    "    alt.Tooltip(['subject', 'gene', 'expression']) \n",
    ").transform_filter('datum.treatment != \"control\"')"
   ]
  },
  {
   "cell_type": "code",
   "execution_count": null,
   "metadata": {},
   "outputs": [],
   "source": [
    "control | flu"
   ]
  },
  {
   "cell_type": "code",
   "execution_count": null,
   "metadata": {},
   "outputs": [],
   "source": [
    "chart.mark_rect().encode(\n",
    "    alt.X('subject:N'),\n",
    "    alt.Y('gene:N'),\n",
    "    alt.Color('expression:Q', scale=alt.Scale(type='log',scheme='blues')),\n",
    "    alt.Tooltip(['subject', 'gene', 'expression'])\n",
    ")"
   ]
  },
  {
   "cell_type": "markdown",
   "metadata": {},
   "source": [
    "Prueba estos esquemas de color\n",
    "          \"Turbo\",\n",
    "          \"Viridis\",\n",
    "          \"Magma\",\n",
    "          \"Inferno\",\n",
    "          \"Plasma\",\n",
    "          \"Cividis\",\n",
    "          \"DarkBlue\",\n",
    "          \"DarkGold\",\n",
    "          \"DarkGreen\",\n",
    "          \"DarkMulti\",\n",
    "          \"DarkRed\",\n",
    "          \"LightGreyRed\",\n",
    "          \"LightGreyTeal\",\n",
    "          \"LightMulti\",\n",
    "          \"LightOrange\",\n",
    "          \"LightTealBlue\",\n",
    "          \"Blues\",\n",
    "          \"Browns\",\n",
    "          \"Greens\",\n",
    "          \"Greys\",\n",
    "          \"Oranges\",\n",
    "          \"Purples\",\n",
    "          \"Reds\",\n",
    "          \"TealBlues\",\n",
    "          \"Teals\",\n",
    "          \"WarmGreys\",\n",
    "          \"BlueOrange\",\n",
    "          \"BrownBlueGreen\",\n",
    "          \"PurpleGreen\",\n",
    "          \"PinkYellowGreen\",\n",
    "          \"PurpleOrange\",\n",
    "          \"RedBlue\",\n",
    "          \"RedGrey\",\n",
    "          \"RedYellowBlue\",\n",
    "          \"RedYellowGreen\",\n",
    "          \"BlueGreen\",\n",
    "          \"BluePurple\",\n",
    "          \"GoldGreen\",\n",
    "          \"GoldOrange\",\n",
    "          \"GoldRed\",\n",
    "          \"GreenBlue\",\n",
    "          \"OrangeRed\",\n",
    "          \"PurpleBlueGreen\",\n",
    "          \"PurpleBlue\",\n",
    "          \"PurpleRed\",\n",
    "          \"RedPurple\",\n",
    "          \"YellowGreenBlue\",\n",
    "          \"YellowGreen\",\n",
    "          \"YellowOrangeBrown\",\n",
    "          \"YellowOrangeRed\""
   ]
  },
  {
   "cell_type": "code",
   "execution_count": null,
   "metadata": {},
   "outputs": [],
   "source": [
    "chart.mark_rect().encode(\n",
    "    alt.X('subject:N'),\n",
    "    alt.Y('gene:N'),\n",
    "    alt.Tooltip(['subject', 'gene', 'expression']),\n",
    "    alt.Color('expression:Q', scale=alt.Scale(type='log',scheme='YellowOrangeBrown'))\n",
    ")"
   ]
  },
  {
   "cell_type": "code",
   "execution_count": null,
   "metadata": {},
   "outputs": [],
   "source": [
    "import seaborn as sns\n",
    "from matplotlib import pyplot as plt"
   ]
  },
  {
   "cell_type": "code",
   "execution_count": null,
   "metadata": {},
   "outputs": [],
   "source": [
    "df = pd.read_csv ('data/GSE68849-expression.csv')\n",
    "df = df.set_index('subject')\n"
   ]
  },
  {
   "cell_type": "code",
   "execution_count": null,
   "metadata": {},
   "outputs": [],
   "source": [
    "df['treatment'] = ([0 if x == 'control' else 1 for x in df['treatment']])\n"
   ]
  },
  {
   "cell_type": "code",
   "execution_count": null,
   "metadata": {},
   "outputs": [],
   "source": [
    "df"
   ]
  },
  {
   "cell_type": "code",
   "execution_count": null,
   "metadata": {},
   "outputs": [],
   "source": [
    "# Default plot\n",
    "sns.clustermap(df)"
   ]
  },
  {
   "cell_type": "code",
   "execution_count": null,
   "metadata": {},
   "outputs": [],
   "source": [
    "# Standardize:\n",
    "sns.clustermap(df, standard_scale=1)"
   ]
  },
  {
   "cell_type": "code",
   "execution_count": null,
   "metadata": {},
   "outputs": [],
   "source": [
    "# Normalize\n",
    "sns.clustermap(df, z_score=1)"
   ]
  },
  {
   "cell_type": "code",
   "execution_count": null,
   "metadata": {},
   "outputs": [],
   "source": [
    "# plot with correlation distance\n",
    "sns.clustermap(df, metric=\"correlation\", standard_scale=1)"
   ]
  },
  {
   "cell_type": "code",
   "execution_count": null,
   "metadata": {},
   "outputs": [],
   "source": [
    "# plot with euclidean distance\n",
    "sns.clustermap(df, metric=\"euclidean\", standard_scale=1)"
   ]
  },
  {
   "cell_type": "code",
   "execution_count": null,
   "metadata": {},
   "outputs": [],
   "source": [
    "# linkage method to use for calculating clusters: single\n",
    "sns.clustermap(df, metric=\"euclidean\", standard_scale=1, method=\"single\")"
   ]
  },
  {
   "cell_type": "code",
   "execution_count": null,
   "metadata": {},
   "outputs": [],
   "source": [
    "# linkage method to use for calculating clusters: ward\n",
    "sns.clustermap(df, metric=\"euclidean\", standard_scale=1, method=\"ward\")"
   ]
  },
  {
   "cell_type": "code",
   "execution_count": null,
   "metadata": {},
   "outputs": [],
   "source": [
    "# Change color palette\n",
    "sns.clustermap(df, metric=\"euclidean\", standard_scale=1, method=\"ward\", cmap=\"mako\")"
   ]
  },
  {
   "cell_type": "code",
   "execution_count": null,
   "metadata": {},
   "outputs": [],
   "source": [
    "sns.clustermap(df, metric=\"euclidean\", standard_scale=1, method=\"ward\", cmap=\"viridis\")\n"
   ]
  },
  {
   "cell_type": "code",
   "execution_count": null,
   "metadata": {},
   "outputs": [],
   "source": [
    "sns.clustermap(df, metric=\"euclidean\", standard_scale=1, method=\"ward\", cmap=\"Blues\")"
   ]
  },
  {
   "cell_type": "code",
   "execution_count": null,
   "metadata": {},
   "outputs": [],
   "source": [
    "import numpy as np\n",
    "tree = sns.clustermap(df, metric=\"euclidean\", standard_scale=1, method=\"ward\")\n",
    "dgram = tree.dendrogram_col.dendrogram\n",
    "D = np.array(dgram['dcoord'])\n",
    "I = np.array(dgram['icoord'])"
   ]
  },
  {
   "cell_type": "code",
   "execution_count": null,
   "metadata": {},
   "outputs": [],
   "source": [
    "dgram"
   ]
  },
  {
   "cell_type": "code",
   "execution_count": null,
   "metadata": {},
   "outputs": [],
   "source": [
    "D"
   ]
  },
  {
   "cell_type": "code",
   "execution_count": null,
   "metadata": {},
   "outputs": [],
   "source": []
  },
  {
   "cell_type": "code",
   "execution_count": null,
   "metadata": {},
   "outputs": [],
   "source": []
  }
 ],
 "metadata": {
  "kernelspec": {
   "display_name": "Python 3",
   "language": "python",
   "name": "python3"
  },
  "language_info": {
   "codemirror_mode": {
    "name": "ipython",
    "version": 3
   },
   "file_extension": ".py",
   "mimetype": "text/x-python",
   "name": "python",
   "nbconvert_exporter": "python",
   "pygments_lexer": "ipython3",
   "version": "3.5.3"
  }
 },
 "nbformat": 4,
 "nbformat_minor": 4
}
